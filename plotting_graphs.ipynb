{
 "cells": [
  {
   "cell_type": "code",
   "execution_count": 70,
   "metadata": {},
   "outputs": [],
   "source": [
    "import numpy as np\n",
    "import matplotlib.pyplot as plt\n",
    "from matplotlib import cm\n",
    "from mpl_toolkits.mplot3d import Axes3D\n",
    "from scipy.stats import norm\n",
    "import scipy\n",
    "plt.switch_backend('Qt4Agg')\n",
    "%matplotlib qt"
   ]
  },
  {
   "cell_type": "code",
   "execution_count": 71,
   "metadata": {},
   "outputs": [],
   "source": [
    "from matplotlib.ticker import MultipleLocator\n",
    "\n",
    "\n",
    "y_ax = np.arange(0,0.8,0.04)\n",
    "objects = ('RNE', 'Original P.V.', 'Extended P.V.')\n",
    "y_pos = np.arange(len(objects))\n",
    "ax = plt.gca()\n",
    "ax.plot(np.linspace(0,100,100), np.repeat(0.354, 100), label = \"Breakaway friction torque\", linewidth=3)\n",
    "ax.bar(0.5, 0.079252, align='center', alpha=0.8)\n",
    "ax.bar(1.5, 0.0215406 , align='center', alpha=0.8)\n",
    "ax.bar(2.5, 0.476548, align='center', alpha=0.8)\n",
    "plt.xticks([0.5,1.5,2.5], objects)\n",
    "plt.yticks(y_ax)\n",
    "\n",
    "plt.ylabel('Torque [Nm]')\n",
    "plt.title('Torques produced in joint 1')\n",
    "\n",
    "ax.set_xlim([0, 3.2])\n",
    "ax.set_ylim([0, 0.6])\n",
    "\n",
    "spacing1 = 0.08 # This can be your user specified spacing. \n",
    "minorLocator1 = MultipleLocator(spacing1)\n",
    "spacing2 = 0.5# This can be your user specified spacing. \n",
    "minorLocator2 = MultipleLocator(spacing2)\n",
    "# Set minor tick locations.\n",
    "ax.yaxis.set_minor_locator(minorLocator1)\n",
    "ax.xaxis.set_minor_locator(minorLocator2)\n",
    "# Set grid to use minor tick locations. \n",
    "ax.grid(which = 'minor')\n",
    "plt.legend()\n",
    "\n",
    "plt.show()"
   ]
  },
  {
   "cell_type": "code",
   "execution_count": null,
   "metadata": {},
   "outputs": [],
   "source": []
  }
 ],
 "metadata": {
  "kernelspec": {
   "display_name": "Python 3",
   "language": "python",
   "name": "python3"
  }
 },
 "nbformat": 4,
 "nbformat_minor": 2
}
