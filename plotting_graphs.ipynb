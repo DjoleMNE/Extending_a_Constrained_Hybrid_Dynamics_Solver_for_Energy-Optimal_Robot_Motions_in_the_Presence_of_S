{
 "cells": [
  {
   "cell_type": "code",
   "execution_count": 1,
   "metadata": {},
   "outputs": [],
   "source": [
    "import numpy as np\n",
    "import matplotlib.pyplot as plt\n",
    "from matplotlib import cm\n",
    "from mpl_toolkits.mplot3d import Axes3D\n",
    "from matplotlib.ticker import MultipleLocator\n",
    "import string\n",
    "import pandas as pd\n",
    "import plotly.plotly as py\n",
    "import plotly.graph_objs as go\n",
    "\n",
    "plt.switch_backend('Qt4Agg')\n",
    "%matplotlib qt\n",
    "plt.rcParams.update({'font.size': 21})"
   ]
  },
  {
   "cell_type": "markdown",
   "metadata": {},
   "source": [
    "## Kuka youBot 5DOF arm\n",
    "Task:   KDL::Wrench externalForceEE(\n",
    "\n",
    "        KDL::Vector(-1.0, -1.0, 0.0), //Force\n",
    "        \n",
    "        KDL::Vector(0.0, 0.0, 0.0));//Torque\n",
    "\n",
    "5DOF robot friction torques:        1.26  0.956  0.486  0.3  0.177  \n",
    "\n",
    "Extended Vereshchagin solver\n",
    "Joint torques:        [     1.44775     2.07766    -2.77313     -1.9505   -0.185907]\n",
    " \n",
    "Elapsed time:  8987022 nanos \n",
    " \n",
    "\n",
    "Original Vereshchagin solver\n",
    "Joint torques:        [  -0.0475547    0.425305    -2.39229  -0.0411388 -0.00142194]\n",
    " \n",
    "Elapsed time:  349639 nanos \n",
    " \n",
    "\n",
    "Recursive Newton Euler solver\n",
    "Joint torques:        [   0.0663858   -0.231184    -2.60901   -0.309586  0.00111843]\n"
   ]
  },
  {
   "cell_type": "code",
   "execution_count": 7,
   "metadata": {},
   "outputs": [],
   "source": [
    "#5DOF Joint 1\n",
    "plt.figure(figsize=(5,5))\n",
    "\n",
    "objects = ('RNE', 'Original P.V.', 'Extended P.V.')\n",
    "y_pos = np.arange(len(objects))\n",
    "ax = plt.gca()\n",
    "ax.plot(np.linspace(0,100,100), np.repeat(1.26, 100), label = \"Breakaway friction torque: 1.26 Nm\", linewidth=3, c='r')\n",
    "ax.bar(2.5, 1.447, align='center', alpha=0.8)\n",
    "ax.bar(1.5, 0.047, align='center', alpha=0.8)\n",
    "ax.bar(0.5, 0.066, align='center', alpha=0.8)\n",
    "\n",
    "plt.xticks([0.5,1.5,2.5], objects)\n",
    "y_lim = 1.62\n",
    "y_ax = np.arange(0,y_lim,0.2)\n",
    "\n",
    "plt.yticks(y_ax)\n",
    "\n",
    "plt.ylabel('Torque [Nm]')\n",
    "\n",
    "ax.set_xlim([0, 3.2])\n",
    "ax.set_ylim([0, y_lim])\n",
    "plt.title('Torques produced in joint 1')\n",
    "spacing1 = 0.2 # This can be your user specified spacing. \n",
    "minorLocator1 = MultipleLocator(spacing1)\n",
    "spacing2 = 0.5# This can be your user specified spacing. \n",
    "minorLocator2 = MultipleLocator(spacing2)\n",
    "# Set minor tick locations.\n",
    "ax.yaxis.set_minor_locator(minorLocator1)\n",
    "ax.xaxis.set_minor_locator(minorLocator2)\n",
    "# Set grid to use minor tick locations. \n",
    "ax.yaxis.grid(True, which = 'minor')\n",
    "plt.legend()\n",
    "\n",
    "plt.show()"
   ]
  },
  {
   "cell_type": "code",
   "execution_count": 8,
   "metadata": {},
   "outputs": [],
   "source": [
    "#5DOF Joint 2\n",
    "plt.figure(figsize=(5,5))\n",
    "\n",
    "y_ax = np.arange(0,0.8,0.04)\n",
    "objects = ('RNE', 'Original P.V.', 'Extended P.V.')\n",
    "y_pos = np.arange(len(objects))\n",
    "ax = plt.gca()\n",
    "ax.plot(np.linspace(0,100,100), np.repeat(0.956, 100), label = \"Breakaway friction torque: 0.956 Nm\", linewidth=3, c='r')\n",
    "ax.bar(2.5, 2.07766, align='center', alpha=0.8)\n",
    "ax.bar(1.5, 0.425305 , align='center', alpha=0.8)\n",
    "ax.bar(0.5, 0.231184, align='center', alpha=0.8)\n",
    "\n",
    "plt.xticks([0.5,1.5,2.5], objects)\n",
    "y_lim = 2.2\n",
    "y_ax = np.arange(0,y_lim,0.2)\n",
    "plt.yticks(y_ax)\n",
    "\n",
    "plt.ylabel('Torque [Nm]')\n",
    "plt.title('Torques produced in joint 2')\n",
    "\n",
    "ax.set_xlim([0, 3.2])\n",
    "ax.set_ylim([0, y_lim])\n",
    "\n",
    "spacing1 = 0.2 # This can be your user specified spacing. \n",
    "minorLocator1 = MultipleLocator(spacing1)\n",
    "spacing2 = 0.5# This can be your user specified spacing. \n",
    "minorLocator2 = MultipleLocator(spacing2)\n",
    "# Set minor tick locations.\n",
    "ax.yaxis.set_minor_locator(minorLocator1)\n",
    "ax.xaxis.set_minor_locator(minorLocator2)\n",
    "# Set grid to use minor tick locations. \n",
    "ax.yaxis.grid(True, which = 'minor')\n",
    "plt.legend()\n",
    "\n",
    "plt.show()"
   ]
  },
  {
   "cell_type": "code",
   "execution_count": 9,
   "metadata": {},
   "outputs": [],
   "source": [
    "#5DOF Joint 3\n",
    "plt.figure(figsize=(5,5))\n",
    "\n",
    "y_ax = np.arange(0,0.8,0.04)\n",
    "objects = ('RNE', 'Original P.V.', 'Extended P.V.')\n",
    "y_pos = np.arange(len(objects))\n",
    "ax = plt.gca()\n",
    "ax.plot(np.linspace(0,100,100), np.repeat(0.486, 100), label = \"Breakaway friction torque:  0.486 Nm\", linewidth=3, c='r')\n",
    "ax.bar(2.5, 2.77313, align='center', alpha=0.8)\n",
    "ax.bar(1.5, 2.39229, align='center', alpha=0.8)\n",
    "ax.bar(0.5, 2.60901, align='center', alpha=0.8)\n",
    "\n",
    "plt.xticks([0.5,1.5,2.5], objects)\n",
    "y_lim = 3.2\n",
    "y_ax = np.arange(0,y_lim,0.2)\n",
    "\n",
    "plt.yticks(y_ax)\n",
    "\n",
    "plt.ylabel('Torque [Nm]')\n",
    "\n",
    "ax.set_xlim([0, 3.2])\n",
    "ax.set_ylim([0, y_lim])\n",
    "\n",
    "plt.title('Torques produced in joint 3')\n",
    "\n",
    "spacing1 = 0.2 # This can be your user specified spacing. \n",
    "minorLocator1 = MultipleLocator(spacing1)\n",
    "spacing2 = 0.5# This can be your user specified spacing. \n",
    "minorLocator2 = MultipleLocator(spacing2)\n",
    "# Set minor tick locations.\n",
    "ax.yaxis.set_minor_locator(minorLocator1)\n",
    "ax.xaxis.set_minor_locator(minorLocator2)\n",
    "# Set grid to use minor tick locations. \n",
    "ax.yaxis.grid(True, which = 'minor')\n",
    "plt.legend()\n",
    "\n",
    "plt.show()"
   ]
  },
  {
   "cell_type": "code",
   "execution_count": 10,
   "metadata": {},
   "outputs": [],
   "source": [
    "#5DOF Joint 4\n",
    "plt.figure(figsize=(5,5))\n",
    "\n",
    "y_ax = np.arange(0,0.8,0.04)\n",
    "objects = ('RNE', 'Original P.V.', 'Extended P.V.')\n",
    "y_pos = np.arange(len(objects))\n",
    "ax = plt.gca()\n",
    "ax.plot(np.linspace(0,100,100), np.repeat(0.3, 100), label = \"Breakaway friction torque: 0.3 Nm\", linewidth=3, c='r')\n",
    "ax.bar(2.5, 1.9505, align='center', alpha=0.8)\n",
    "ax.bar(1.5,0.0411388 , align='center', alpha=0.8)\n",
    "ax.bar(0.5, 0.309586, align='center', alpha=0.8)\n",
    "\n",
    "plt.xticks([0.5,1.5,2.5], objects)\n",
    "y_lim = 2.2\n",
    "y_ax = np.arange(0,y_lim,0.2)\n",
    "\n",
    "plt.yticks(y_ax)\n",
    "\n",
    "plt.ylabel('Torque [Nm]')\n",
    "\n",
    "ax.set_xlim([0, 3.2])\n",
    "ax.set_ylim([0, y_lim])\n",
    "plt.title('Torques produced in joint 4')\n",
    "\n",
    "spacing1 = 0.2 # This can be your user specified spacing. \n",
    "minorLocator1 = MultipleLocator(spacing1)\n",
    "spacing2 = 0.5# This can be your user specified spacing. \n",
    "minorLocator2 = MultipleLocator(spacing2)\n",
    "# Set minor tick locations.\n",
    "ax.yaxis.set_minor_locator(minorLocator1)\n",
    "ax.xaxis.set_minor_locator(minorLocator2)\n",
    "# Set grid to use minor tick locations. \n",
    "ax.yaxis.grid(True, which = 'minor')\n",
    "plt.legend()\n",
    "\n",
    "plt.show()"
   ]
  },
  {
   "cell_type": "code",
   "execution_count": 11,
   "metadata": {},
   "outputs": [],
   "source": [
    "#5DOF Joint 5\n",
    "plt.figure(figsize=(5,5))\n",
    "\n",
    "y_ax = np.arange(0,0.8,0.04)\n",
    "objects = ('RNE', 'Original P.V.', 'Extended P.V.')\n",
    "y_pos = np.arange(len(objects))\n",
    "ax = plt.gca()\n",
    "ax.plot(np.linspace(0,100,100), np.repeat(0.177, 100), label = \"Breakaway friction torque: 0.177 Nm\", linewidth=3, c='r')\n",
    "ax.bar(2.5, 0.185907, align='center', alpha=0.8)\n",
    "ax.bar(1.5, 0.00142194 , align='center', alpha=0.8)\n",
    "ax.bar(0.5, 0.00111843, align='center', alpha=0.8)\n",
    "\n",
    "plt.xticks([0.5,1.5,2.5], objects)\n",
    "y_lim = 0.202\n",
    "y_ax = np.arange(0,y_lim,0.02)\n",
    "\n",
    "plt.yticks(y_ax)\n",
    "\n",
    "plt.ylabel('Torque [Nm]')\n",
    "\n",
    "ax.set_xlim([0, 3.2])\n",
    "ax.set_ylim([0, y_lim])\n",
    "plt.title('Torques produced in joint 5')\n",
    "\n",
    "spacing1 = 0.02 # This can be your user specified spacing. \n",
    "minorLocator1 = MultipleLocator(spacing1)\n",
    "spacing2 = 0.5# This can be your user specified spacing. \n",
    "minorLocator2 = MultipleLocator(spacing2)\n",
    "# Set minor tick locations.\n",
    "ax.yaxis.set_minor_locator(minorLocator1)\n",
    "ax.xaxis.set_minor_locator(minorLocator2)\n",
    "ax.yaxis.grid(True, which = 'minor')\n",
    "# Set grid to use minor tick locations. \n",
    "plt.legend()\n",
    "\n",
    "plt.show()"
   ]
  },
  {
   "cell_type": "code",
   "execution_count": null,
   "metadata": {},
   "outputs": [],
   "source": []
  },
  {
   "cell_type": "markdown",
   "metadata": {},
   "source": [
    "## Kuka LWR 7DOF arm\n",
    "Task:   KDL::Wrench externalForceEE(\n",
    "\n",
    "        KDL::Vector(-1.0, -1.0, 0.0), //Force\n",
    "        \n",
    "        KDL::Vector(0.0, 0.0, 0.0));//Torque\n",
    "        "
   ]
  },
  {
   "cell_type": "code",
   "execution_count": 12,
   "metadata": {},
   "outputs": [],
   "source": [
    "N = 100\n",
    "y_vals = {}\n",
    "for letter in list(string.ascii_uppercase):\n",
    "     y_vals[letter] = np.random.randn(N)+(3*np.random.randn())\n",
    "        \n",
    "df = pd.DataFrame(y_vals)\n",
    "df.head()\n",
    "\n",
    "data = []\n",
    "\n",
    "for col in df.columns:\n",
    "    data.append(  go.Box( y=df[col], name=col, showlegend=False ) )\n",
    "\n",
    "data.append( go.Scatter( x = df.columns, y = df.mean(), mode='lines', name='mean' ) )"
   ]
  },
  {
   "cell_type": "code",
   "execution_count": 15,
   "metadata": {},
   "outputs": [
    {
     "data": {
      "text/plain": [
       "<matplotlib.axes._subplots.AxesSubplot at 0x7f726f928690>"
      ]
     },
     "execution_count": 15,
     "metadata": {},
     "output_type": "execute_result"
    }
   ],
   "source": [
    "df = pd.DataFrame(np.random.rand(10, 5), columns=['A', 'B', 'C', 'D', 'E'])\n",
    "df.plot.box()"
   ]
  },
  {
   "cell_type": "code",
   "execution_count": 5,
   "metadata": {},
   "outputs": [],
   "source": [
    "%matplotlib inline"
   ]
  },
  {
   "cell_type": "code",
   "execution_count": 70,
   "metadata": {},
   "outputs": [
    {
     "name": "stdout",
     "output_type": "stream",
     "text": [
      "       Extended P.V.  Original P.V.        RNE\n",
      "count      10.000000      10.000000  10.000000\n",
      "mean    45881.200000     405.900000  17.000000\n",
      "std      1084.143676      56.685193   2.666667\n",
      "min     44736.000000     349.000000  14.000000\n",
      "25%     45142.500000     366.000000  14.250000\n",
      "50%     45805.500000     385.000000  17.000000\n",
      "75%     46275.750000     430.000000  19.000000\n",
      "max     48359.000000     530.000000  21.000000\n"
     ]
    },
    {
     "data": {
      "image/png": "[encoded data removed]",
      "text/plain": [
       "<matplotlib.figure.Figure at 0x7fa609334cd0>"
      ]
     },
     "metadata": {},
     "output_type": "display_data"
    }
   ],
   "source": [
    "data = {'RNE':[15, 17, 19, 19, 20, 14, 14, 14, 21, 17],\n",
    "        'Original P.V.':[461, 366, 349, 530, 366, 418, 368, 402, 365, 434], \n",
    "        'Extended P.V.':[45768, 46659, 45105, 45843, 45255, 44736, 44762, 46389, 48359, 45936]}\n",
    "df = pd.DataFrame(data)\n",
    "df.plot.box()\n",
    "print df.describe()\n"
   ]
  },
  {
   "cell_type": "code",
   "execution_count": 73,
   "metadata": {},
   "outputs": [
    {
     "data": {
      "text/plain": [
       "<matplotlib.axes._subplots.AxesSubplot at 0x7fa608a717d0>"
      ]
     },
     "execution_count": 73,
     "metadata": {},
     "output_type": "execute_result"
    },
    {
     "data": {
      "image/png": "[encoded data removed]",
      "text/plain": [
       "<matplotlib.figure.Figure at 0x7fa608a57dd0>"
      ]
     },
     "metadata": {},
     "output_type": "display_data"
    }
   ],
   "source": [
    "data_rne = {'RNE':[15, 17, 19, 19, 20, 14, 14, 14, 21, 17]}\n",
    "df_rne = pd.DataFrame(data_rne)\n",
    "df_rne.plot.box()\n"
   ]
  },
  {
   "cell_type": "code",
   "execution_count": 87,
   "metadata": {},
   "outputs": [
    {
     "data": {
      "text/plain": [
       "<matplotlib.axes._subplots.AxesSubplot at 0x7fa60800d0d0>"
      ]
     },
     "execution_count": 87,
     "metadata": {},
     "output_type": "execute_result"
    },
    {
     "data": {
      "image/png": "[encoded data removed]",
      "text/plain": [
       "<matplotlib.figure.Figure at 0x7fa6092ae950>"
      ]
     },
     "metadata": {},
     "output_type": "display_data"
    }
   ],
   "source": [
    "df.plot(kind='box', logy = True, grid=True, secondary_y=[3], mark_right=True, figsize = (10,5) )\n"
   ]
  },
  {
   "cell_type": "code",
   "execution_count": null,
   "metadata": {},
   "outputs": [],
   "source": [
    "\n"
   ]
  },
  {
   "cell_type": "code",
   "execution_count": 65,
   "metadata": {},
   "outputs": [],
   "source": [
    "data = np.random.random((10, 5))\n",
    "data[:,-1] += 10  # offset one column\n",
    "df1 = pd.DataFrame(data)\n"
   ]
  },
  {
   "cell_type": "code",
   "execution_count": 66,
   "metadata": {},
   "outputs": [
    {
     "data": {
      "text/plain": [
       "<matplotlib.axes._subplots.AxesSubplot at 0x7fa608e1aa10>"
      ]
     },
     "execution_count": 66,
     "metadata": {},
     "output_type": "execute_result"
    },
    {
     "data": {
      "image/png": "[encoded data removed]",
      "text/plain": [
       "<matplotlib.figure.Figure at 0x7fa608d71b90>"
      ]
     },
     "metadata": {},
     "output_type": "display_data"
    }
   ],
   "source": [
    "fig, ax = plt.subplots()\n",
    "df1[[0, 1, 2, 3]].plot(kind='box', ax=ax, secondary_y=[4])"
   ]
  },
  {
   "cell_type": "code",
   "execution_count": null,
   "metadata": {},
   "outputs": [],
   "source": []
  },
  {
   "cell_type": "code",
   "execution_count": null,
   "metadata": {},
   "outputs": [],
   "source": []
  }
 ],
 "metadata": {
  "kernelspec": {
   "display_name": "Python 3",
   "language": "python",
   "name": "python3"
  },
  "language_info": {
   "codemirror_mode": {
    "name": "ipython",
    "version": 2
   },
   "file_extension": ".py",
   "mimetype": "text/x-python",
   "name": "python",
   "nbconvert_exporter": "python",
   "pygments_lexer": "ipython2",
   "version": "2.7.6"
  }
 },
 "nbformat": 4,
 "nbformat_minor": 2
}
