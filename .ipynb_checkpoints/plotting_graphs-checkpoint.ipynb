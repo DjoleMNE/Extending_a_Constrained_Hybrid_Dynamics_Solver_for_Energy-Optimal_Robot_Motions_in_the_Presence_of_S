{
 "cells": [
  {
   "cell_type": "code",
   "execution_count": 6,
   "metadata": {},
   "outputs": [],
   "source": [
    "import numpy as np\n",
    "import matplotlib.pyplot as plt\n",
    "from matplotlib import cm\n",
    "from mpl_toolkits.mplot3d import Axes3D\n",
    "from matplotlib.ticker import MultipleLocator\n",
    "import string\n",
    "import pandas as pd\n",
    "import plotly.plotly as py\n",
    "import plotly.graph_objs as go\n",
    "\n",
    "plt.switch_backend('Qt4Agg')\n",
    "%matplotlib qt\n",
    "plt.rcParams.update({'font.size': 21})"
   ]
  },
  {
   "cell_type": "markdown",
   "metadata": {},
   "source": [
    "## Kuka youBot 5DOF arm\n",
    "Task:   KDL::Wrench externalForceEE(\n",
    "\n",
    "        KDL::Vector(-1.0, -1.0, 0.0), //Force\n",
    "        \n",
    "        KDL::Vector(0.0, 0.0, 0.0));//Torque\n",
    "\n",
    "5DOF robot friction torques:        1.26  0.956  0.486  0.3  0.177  \n",
    "\n",
    "Extended Vereshchagin solver\n",
    "Joint torques:        [     1.44775     2.07766    -2.77313     -1.9505   -0.185907]\n",
    " \n",
    "Elapsed time:  8987022 nanos \n",
    " \n",
    "\n",
    "Original Vereshchagin solver\n",
    "Joint torques:        [  -0.0475547    0.425305    -2.39229  -0.0411388 -0.00142194]\n",
    " \n",
    "Elapsed time:  349639 nanos \n",
    " \n",
    "\n",
    "Recursive Newton Euler solver\n",
    "Joint torques:        [   0.0663858   -0.231184    -2.60901   -0.309586  0.00111843]\n"
   ]
  },
  {
   "cell_type": "code",
   "execution_count": 7,
   "metadata": {},
   "outputs": [],
   "source": [
    "#5DOF Joint 1\n",
    "plt.figure(figsize=(5,5))\n",
    "\n",
    "objects = ('RNE', 'Original P.V.', 'Extended P.V.')\n",
    "y_pos = np.arange(len(objects))\n",
    "ax = plt.gca()\n",
    "ax.plot(np.linspace(0,100,100), np.repeat(1.26, 100), label = \"Breakaway friction torque: 1.26 Nm\", linewidth=3, c='r')\n",
    "ax.bar(2.5, 1.447, align='center', alpha=0.8)\n",
    "ax.bar(1.5, 0.047, align='center', alpha=0.8)\n",
    "ax.bar(0.5, 0.066, align='center', alpha=0.8)\n",
    "\n",
    "plt.xticks([0.5,1.5,2.5], objects)\n",
    "y_lim = 1.62\n",
    "y_ax = np.arange(0,y_lim,0.2)\n",
    "\n",
    "plt.yticks(y_ax)\n",
    "\n",
    "plt.ylabel('Torque [Nm]')\n",
    "\n",
    "ax.set_xlim([0, 3.2])\n",
    "ax.set_ylim([0, y_lim])\n",
    "plt.title('Torques produced in joint 1')\n",
    "spacing1 = 0.2 # This can be your user specified spacing. \n",
    "minorLocator1 = MultipleLocator(spacing1)\n",
    "spacing2 = 0.5# This can be your user specified spacing. \n",
    "minorLocator2 = MultipleLocator(spacing2)\n",
    "# Set minor tick locations.\n",
    "ax.yaxis.set_minor_locator(minorLocator1)\n",
    "ax.xaxis.set_minor_locator(minorLocator2)\n",
    "# Set grid to use minor tick locations. \n",
    "ax.yaxis.grid(True, which = 'minor')\n",
    "plt.legend()\n",
    "\n",
    "plt.show()"
   ]
  },
  {
   "cell_type": "code",
   "execution_count": 8,
   "metadata": {},
   "outputs": [],
   "source": [
    "#5DOF Joint 2\n",
    "plt.figure(figsize=(5,5))\n",
    "\n",
    "y_ax = np.arange(0,0.8,0.04)\n",
    "objects = ('RNE', 'Original P.V.', 'Extended P.V.')\n",
    "y_pos = np.arange(len(objects))\n",
    "ax = plt.gca()\n",
    "ax.plot(np.linspace(0,100,100), np.repeat(0.956, 100), label = \"Breakaway friction torque: 0.956 Nm\", linewidth=3, c='r')\n",
    "ax.bar(2.5, 2.07766, align='center', alpha=0.8)\n",
    "ax.bar(1.5, 0.425305 , align='center', alpha=0.8)\n",
    "ax.bar(0.5, 0.231184, align='center', alpha=0.8)\n",
    "\n",
    "plt.xticks([0.5,1.5,2.5], objects)\n",
    "y_lim = 2.2\n",
    "y_ax = np.arange(0,y_lim,0.2)\n",
    "plt.yticks(y_ax)\n",
    "\n",
    "plt.ylabel('Torque [Nm]')\n",
    "plt.title('Torques produced in joint 2')\n",
    "\n",
    "ax.set_xlim([0, 3.2])\n",
    "ax.set_ylim([0, y_lim])\n",
    "\n",
    "spacing1 = 0.2 # This can be your user specified spacing. \n",
    "minorLocator1 = MultipleLocator(spacing1)\n",
    "spacing2 = 0.5# This can be your user specified spacing. \n",
    "minorLocator2 = MultipleLocator(spacing2)\n",
    "# Set minor tick locations.\n",
    "ax.yaxis.set_minor_locator(minorLocator1)\n",
    "ax.xaxis.set_minor_locator(minorLocator2)\n",
    "# Set grid to use minor tick locations. \n",
    "ax.yaxis.grid(True, which = 'minor')\n",
    "plt.legend()\n",
    "\n",
    "plt.show()"
   ]
  },
  {
   "cell_type": "code",
   "execution_count": 9,
   "metadata": {},
   "outputs": [],
   "source": [
    "#5DOF Joint 3\n",
    "plt.figure(figsize=(5,5))\n",
    "\n",
    "y_ax = np.arange(0,0.8,0.04)\n",
    "objects = ('RNE', 'Original P.V.', 'Extended P.V.')\n",
    "y_pos = np.arange(len(objects))\n",
    "ax = plt.gca()\n",
    "ax.plot(np.linspace(0,100,100), np.repeat(0.486, 100), label = \"Breakaway friction torque:  0.486 Nm\", linewidth=3, c='r')\n",
    "ax.bar(2.5, 2.77313, align='center', alpha=0.8)\n",
    "ax.bar(1.5, 2.39229, align='center', alpha=0.8)\n",
    "ax.bar(0.5, 2.60901, align='center', alpha=0.8)\n",
    "\n",
    "plt.xticks([0.5,1.5,2.5], objects)\n",
    "y_lim = 3.2\n",
    "y_ax = np.arange(0,y_lim,0.2)\n",
    "\n",
    "plt.yticks(y_ax)\n",
    "\n",
    "plt.ylabel('Torque [Nm]')\n",
    "\n",
    "ax.set_xlim([0, 3.2])\n",
    "ax.set_ylim([0, y_lim])\n",
    "\n",
    "plt.title('Torques produced in joint 3')\n",
    "\n",
    "spacing1 = 0.2 # This can be your user specified spacing. \n",
    "minorLocator1 = MultipleLocator(spacing1)\n",
    "spacing2 = 0.5# This can be your user specified spacing. \n",
    "minorLocator2 = MultipleLocator(spacing2)\n",
    "# Set minor tick locations.\n",
    "ax.yaxis.set_minor_locator(minorLocator1)\n",
    "ax.xaxis.set_minor_locator(minorLocator2)\n",
    "# Set grid to use minor tick locations. \n",
    "ax.yaxis.grid(True, which = 'minor')\n",
    "plt.legend()\n",
    "\n",
    "plt.show()"
   ]
  },
  {
   "cell_type": "code",
   "execution_count": 10,
   "metadata": {},
   "outputs": [],
   "source": [
    "#5DOF Joint 4\n",
    "plt.figure(figsize=(5,5))\n",
    "\n",
    "y_ax = np.arange(0,0.8,0.04)\n",
    "objects = ('RNE', 'Original P.V.', 'Extended P.V.')\n",
    "y_pos = np.arange(len(objects))\n",
    "ax = plt.gca()\n",
    "ax.plot(np.linspace(0,100,100), np.repeat(0.3, 100), label = \"Breakaway friction torque: 0.3 Nm\", linewidth=3, c='r')\n",
    "ax.bar(2.5, 1.9505, align='center', alpha=0.8)\n",
    "ax.bar(1.5,0.0411388 , align='center', alpha=0.8)\n",
    "ax.bar(0.5, 0.309586, align='center', alpha=0.8)\n",
    "\n",
    "plt.xticks([0.5,1.5,2.5], objects)\n",
    "y_lim = 2.2\n",
    "y_ax = np.arange(0,y_lim,0.2)\n",
    "\n",
    "plt.yticks(y_ax)\n",
    "\n",
    "plt.ylabel('Torque [Nm]')\n",
    "\n",
    "ax.set_xlim([0, 3.2])\n",
    "ax.set_ylim([0, y_lim])\n",
    "plt.title('Torques produced in joint 4')\n",
    "\n",
    "spacing1 = 0.2 # This can be your user specified spacing. \n",
    "minorLocator1 = MultipleLocator(spacing1)\n",
    "spacing2 = 0.5# This can be your user specified spacing. \n",
    "minorLocator2 = MultipleLocator(spacing2)\n",
    "# Set minor tick locations.\n",
    "ax.yaxis.set_minor_locator(minorLocator1)\n",
    "ax.xaxis.set_minor_locator(minorLocator2)\n",
    "# Set grid to use minor tick locations. \n",
    "ax.yaxis.grid(True, which = 'minor')\n",
    "plt.legend()\n",
    "\n",
    "plt.show()"
   ]
  },
  {
   "cell_type": "code",
   "execution_count": 11,
   "metadata": {},
   "outputs": [],
   "source": [
    "#5DOF Joint 5\n",
    "plt.figure(figsize=(5,5))\n",
    "\n",
    "y_ax = np.arange(0,0.8,0.04)\n",
    "objects = ('RNE', 'Original P.V.', 'Extended P.V.')\n",
    "y_pos = np.arange(len(objects))\n",
    "ax = plt.gca()\n",
    "ax.plot(np.linspace(0,100,100), np.repeat(0.177, 100), label = \"Breakaway friction torque: 0.177 Nm\", linewidth=3, c='r')\n",
    "ax.bar(2.5, 0.185907, align='center', alpha=0.8)\n",
    "ax.bar(1.5, 0.00142194 , align='center', alpha=0.8)\n",
    "ax.bar(0.5, 0.00111843, align='center', alpha=0.8)\n",
    "\n",
    "plt.xticks([0.5,1.5,2.5], objects)\n",
    "y_lim = 0.202\n",
    "y_ax = np.arange(0,y_lim,0.02)\n",
    "\n",
    "plt.yticks(y_ax)\n",
    "\n",
    "plt.ylabel('Torque [Nm]')\n",
    "\n",
    "ax.set_xlim([0, 3.2])\n",
    "ax.set_ylim([0, y_lim])\n",
    "plt.title('Torques produced in joint 5')\n",
    "\n",
    "spacing1 = 0.02 # This can be your user specified spacing. \n",
    "minorLocator1 = MultipleLocator(spacing1)\n",
    "spacing2 = 0.5# This can be your user specified spacing. \n",
    "minorLocator2 = MultipleLocator(spacing2)\n",
    "# Set minor tick locations.\n",
    "ax.yaxis.set_minor_locator(minorLocator1)\n",
    "ax.xaxis.set_minor_locator(minorLocator2)\n",
    "ax.yaxis.grid(True, which = 'minor')\n",
    "# Set grid to use minor tick locations. \n",
    "plt.legend()\n",
    "\n",
    "plt.show()"
   ]
  },
  {
   "cell_type": "code",
   "execution_count": null,
   "metadata": {},
   "outputs": [],
   "source": []
  },
  {
   "cell_type": "markdown",
   "metadata": {},
   "source": [
    "## Kuka LWR 7DOF arm\n",
    "Task:   KDL::Wrench externalForceEE(\n",
    "\n",
    "        KDL::Vector(-1.0, -1.0, 0.0), //Force\n",
    "        \n",
    "        KDL::Vector(0.0, 0.0, 0.0));//Torque\n",
    "        "
   ]
  },
  {
   "cell_type": "code",
   "execution_count": 12,
   "metadata": {},
   "outputs": [],
   "source": [
    "N = 100\n",
    "y_vals = {}\n",
    "for letter in list(string.ascii_uppercase):\n",
    "     y_vals[letter] = np.random.randn(N)+(3*np.random.randn())\n",
    "        \n",
    "df = pd.DataFrame(y_vals)\n",
    "df.head()\n",
    "\n",
    "data = []\n",
    "\n",
    "for col in df.columns:\n",
    "    data.append(  go.Box( y=df[col], name=col, showlegend=False ) )\n",
    "\n",
    "data.append( go.Scatter( x = df.columns, y = df.mean(), mode='lines', name='mean' ) )"
   ]
  },
  {
   "cell_type": "code",
   "execution_count": 15,
   "metadata": {},
   "outputs": [
    {
     "data": {
      "text/plain": [
       "<matplotlib.axes._subplots.AxesSubplot at 0x7f726f928690>"
      ]
     },
     "execution_count": 15,
     "metadata": {},
     "output_type": "execute_result"
    }
   ],
   "source": [
    "df = pd.DataFrame(np.random.rand(10, 5), columns=['A', 'B', 'C', 'D', 'E'])\n",
    "df.plot.box()"
   ]
  },
  {
   "cell_type": "code",
   "execution_count": 16,
   "metadata": {},
   "outputs": [
    {
     "name": "stdout",
     "output_type": "stream",
     "text": [
      "Empty DataFrame\n",
      "Columns: []\n",
      "Index: []\n"
     ]
    }
   ],
   "source": [
    "df = pd.DataFrame()\n",
    "print df"
   ]
  },
  {
   "cell_type": "code",
   "execution_count": 18,
   "metadata": {},
   "outputs": [
    {
     "name": "stdout",
     "output_type": "stream",
     "text": [
      "     Name  Age\n",
      "0    Alex   10\n",
      "1     Bob   12\n",
      "2  Clarke   13\n"
     ]
    }
   ],
   "source": [
    "data = [['Alex',10],['Bob',12],['Clarke',13]]\n",
    "df = pd.DataFrame(data,columns=['RNE','Original P.V.', 'Extended P.V.'])\n",
    "print df"
   ]
  },
  {
   "cell_type": "code",
   "execution_count": null,
   "metadata": {},
   "outputs": [],
   "source": []
  }
 ],
 "metadata": {
  "kernelspec": {
   "display_name": "Python 3",
   "language": "python",
   "name": "python3"
  },
  "language_info": {
   "codemirror_mode": {
    "name": "ipython",
    "version": 2
   },
   "file_extension": ".py",
   "mimetype": "text/x-python",
   "name": "python",
   "nbconvert_exporter": "python",
   "pygments_lexer": "ipython2",
   "version": "2.7.6"
  }
 },
 "nbformat": 4,
 "nbformat_minor": 2
}
